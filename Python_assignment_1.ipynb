{
  "cells": [
    {
      "cell_type": "markdown",
      "metadata": {
        "id": "WJYweJrma1Ez"
      },
      "source": [
        "# Practice Questions On Functions"
      ]
    },
    {
      "cell_type": "markdown",
      "metadata": {
        "id": "YK4rKzHIa1E1"
      },
      "source": [
        "__1. Write a function that inputs a number and prints the multiplication table of that number__"
      ]
    },
    {
      "cell_type": "code",
      "execution_count": null,
      "metadata": {
        "id": "kHvYFI6wa1E1",
        "outputId": "aa58bd5b-5a37-4bfd-bf2c-51a43023776f"
      },
      "outputs": [
        {
          "name": "stdout",
          "output_type": "stream",
          "text": [
            "3.2\n",
            "3.2 X 1 = 3.2\n",
            "3.2 X 2 = 6.4\n",
            "3.2 X 3 = 9.600000000000001\n",
            "3.2 X 4 = 12.8\n",
            "3.2 X 5 = 16.0\n",
            "3.2 X 6 = 19.200000000000003\n",
            "3.2 X 7 = 22.400000000000002\n",
            "3.2 X 8 = 25.6\n",
            "3.2 X 9 = 28.8\n",
            "3.2 X 10 = 32.0\n"
          ]
        }
      ],
      "source": [
        "def mult_table(x):   #defining a function with a parameter 'x'\n",
        "    for i in range(10):   #from 0 to 9\n",
        "        print(x, \"X\", i+1, \"=\", x*(i+1))\n",
        "number = float(input())    #we can give decimal numbers too as an input\n",
        "mult_table(number)"
      ]
    },
    {
      "cell_type": "markdown",
      "metadata": {
        "id": "J5c4ZpY4a1E3"
      },
      "source": [
        "__2. Write a program to print twin primes less than 1000. If two consecutive odd numbers are\n",
        "both prime then they are known as twin primes__"
      ]
    },
    {
      "cell_type": "code",
      "execution_count": null,
      "metadata": {
        "id": "PyC9OV-Ua1E3",
        "outputId": "1c08922e-8cf4-49af-fc6e-a135a7a78362"
      },
      "outputs": [
        {
          "name": "stdout",
          "output_type": "stream",
          "text": [
            "3 and 5\n",
            "5 and 7\n",
            "11 and 13\n",
            "17 and 19\n",
            "29 and 31\n",
            "41 and 43\n",
            "59 and 61\n",
            "71 and 73\n",
            "101 and 103\n",
            "107 and 109\n",
            "137 and 139\n",
            "149 and 151\n",
            "179 and 181\n",
            "191 and 193\n",
            "197 and 199\n",
            "227 and 229\n",
            "239 and 241\n",
            "269 and 271\n",
            "281 and 283\n",
            "311 and 313\n",
            "347 and 349\n",
            "419 and 421\n",
            "431 and 433\n",
            "461 and 463\n",
            "521 and 523\n",
            "569 and 571\n",
            "599 and 601\n",
            "617 and 619\n",
            "641 and 643\n",
            "659 and 661\n",
            "809 and 811\n",
            "821 and 823\n",
            "827 and 829\n",
            "857 and 859\n",
            "881 and 883\n"
          ]
        }
      ],
      "source": [
        "def is_prime(x):    #defining a function with a parameter 'x'\n",
        "    for i in range(2, x):   #started from 2 because 1 is neither a prime nor a composite number\n",
        "        if x % i == 0:   #logic to check a prime number\n",
        "            return False   #given number is not a prime number\n",
        "    return True  #given number is a prime number\n",
        "\n",
        "def create_twins(begin, end):\n",
        "    for i in range(begin, end):\n",
        "        j = i+2    #j is consecutive odd of i\n",
        "        if(is_prime(i) and is_prime(j)):\n",
        "            print(\"{:d} and {:d}\".format(i, j))\n",
        "\n",
        "create_twins(2, 1000)  #calling a function with hard coded inputs"
      ]
    },
    {
      "cell_type": "markdown",
      "metadata": {
        "id": "SZcPpoPKa1E3"
      },
      "source": [
        "__3. Write a program to find out the prime factors of a number. Example: prime factors of 56 -\n",
        "2, 2, 2, 7__"
      ]
    },
    {
      "cell_type": "code",
      "execution_count": null,
      "metadata": {
        "id": "fdyIDgZVa1E4",
        "outputId": "8a393a92-e2c2-48d8-a23a-fd1b2674e773"
      },
      "outputs": [
        {
          "name": "stdout",
          "output_type": "stream",
          "text": [
            "24\n",
            "[2, 2, 2, 3]\n"
          ]
        }
      ],
      "source": [
        "#Reference - https://www.youtube.com/watch?v=7LyDdaYftNk\n",
        "\n",
        "def prime_factors(x):   #defining a function with a parameter 'x'\n",
        "    prime_factors_list = []   #create a list to store prime factors of 'x'\n",
        "    divisor = 2   #initiate with the lowest prime number\n",
        "    while(divisor<=x):   #while loop\n",
        "        if x % divisor == 0:  #to obtain prime factors of a number\n",
        "            prime_factors_list.append(divisor)  #adding prime factors to a list\n",
        "            x = x / divisor  #to get the next prime factor\n",
        "        else:\n",
        "            divisor += 1  #incrementing by 1\n",
        "    return prime_factors_list\n",
        "\n",
        "number = int(input())\n",
        "print(prime_factors(number))"
      ]
    },
    {
      "cell_type": "markdown",
      "metadata": {
        "id": "GlFhDoyfa1E4"
      },
      "source": [
        "__4. Write a program to implement these formulae of permutations and combinations.\n",
        "Number of permutations of n objects taken r at a time: p(n, r) = n! / (n-r)!. Number of\n",
        "combinations of n objects taken r at a time is: c(n, r) = n! / (r!*(n-r)!) = p(n,r) / r!__"
      ]
    },
    {
      "cell_type": "code",
      "execution_count": null,
      "metadata": {
        "id": "k_tbZFvfa1E4",
        "outputId": "276dd5a0-9e37-40c5-a8c8-dfbdd647c2cb"
      },
      "outputs": [
        {
          "name": "stdout",
          "output_type": "stream",
          "text": [
            "Enter the n value: 10\n",
            "Enter the r value: 2\n",
            "The permutation value is:  90\n"
          ]
        }
      ],
      "source": [
        "#Code for Permutations\n",
        "\n",
        "def factorial(n):    #defining a function with a parameter 'n'\n",
        "    if (n<=1):\n",
        "        return 1   #factorial of 1 is 1\n",
        "    else:\n",
        "        return n * factorial(n-1)  #formula of n!\n",
        "\n",
        "def permutation(n, r):    #defining a function with parameters 'n' and 'r'\n",
        "    return factorial(n)/factorial(n-r)  #formula of permutations\n",
        "\n",
        "number1 = int(input(\"Enter the n value: \"))\n",
        "number2 = int(input(\"Enter the r value: \"))\n",
        "print(\"The permutation value is: \",int(permutation(number1, number2)))"
      ]
    },
    {
      "cell_type": "code",
      "execution_count": null,
      "metadata": {
        "id": "u-Zmb_FFa1E5",
        "outputId": "a45022aa-3a1d-4be9-f6fd-5a3236da9e61"
      },
      "outputs": [
        {
          "name": "stdout",
          "output_type": "stream",
          "text": [
            "Enter the n value: 10\n",
            "Enter the r value: 2\n",
            "The combination value is:  45\n"
          ]
        }
      ],
      "source": [
        "#Code for Combinations\n",
        "\n",
        "def factorial(n):    #defining a function with a parameter 'n'\n",
        "    if (n<=1):\n",
        "        return 1   #factorial of 1 is 1\n",
        "    else:\n",
        "        return n * factorial(n-1)  #formula of n!\n",
        "\n",
        "def combination(n, r):    #defining a function with parameters 'n' and 'r'\n",
        "    return factorial(n)/(factorial(r) * factorial(n-r))  #formula of combinations\n",
        "\n",
        "number1 = int(input(\"Enter the n value: \"))\n",
        "number2 = int(input(\"Enter the r value: \"))\n",
        "print(\"The combination value is: \",int(combination(number1, number2)))"
      ]
    },
    {
      "cell_type": "markdown",
      "metadata": {
        "id": "U4ZNKf62a1E5"
      },
      "source": [
        "__5. Write a function that converts a decimal number to binary number__"
      ]
    },
    {
      "cell_type": "code",
      "execution_count": null,
      "metadata": {
        "id": "Nrkpq2iUa1E5",
        "outputId": "e5f64eb9-db97-4a7f-f5b2-7f2e599587bf"
      },
      "outputs": [
        {
          "name": "stdout",
          "output_type": "stream",
          "text": [
            "Enter a decimal number: 10\n",
            "1 0 1 0 "
          ]
        }
      ],
      "source": [
        "def DecimalToBinary(x):   #defining a function with a parameter 'x'\n",
        "    if x > 1:  #decimal and binary form of 1 is same i.e. 1\n",
        "        DecimalToBinary(x // 2) #recursive method\n",
        "    print(x % 2, end = ' ') #remainders obtained, treated as binary number\n",
        "\n",
        "number = int(input(\"Enter a decimal number: \"))\n",
        "DecimalToBinary(number)"
      ]
    },
    {
      "cell_type": "markdown",
      "metadata": {
        "id": "P8bJjUOEa1E5"
      },
      "source": [
        "__6. Write a function cubesum() that accepts an integer and returns the sum of the cubes of\n",
        "individual digits of that number. Use this function to make functions PrintArmstrong() and\n",
        "isArmstrong() to print Armstrong numbers and to find whether is an Armstrong number.__"
      ]
    },
    {
      "cell_type": "code",
      "execution_count": null,
      "metadata": {
        "id": "ymYbPH6pa1E5",
        "outputId": "ea67b43b-c981-46d0-cd84-c7e8492c2b41"
      },
      "outputs": [
        {
          "name": "stdout",
          "output_type": "stream",
          "text": [
            "Enter a 3 digit integer: 407\n",
            "Sum of the number is:  407\n",
            "407  is an Armstrong number\n"
          ]
        }
      ],
      "source": [
        "def cubesum(x):    #defining a function with a parameter 'x'\n",
        "        sum = 0    #initializing sum\n",
        "        number_copy = x  #making copy of an input number\n",
        "        while (number_copy > 0):\n",
        "            digit = number_copy % 10  #extracting single digit from a number\n",
        "            sum = sum + digit ** 3  #sum of cubes of digits\n",
        "            number_copy = number_copy // 10   #eliminating the used digit\n",
        "        print(\"Sum of the number is: \", sum)   #sum of cubes of digits of a number\n",
        "        if(x==sum):\n",
        "            print(x, \" is an Armstrong number\")\n",
        "        else :\n",
        "            print(x, \" is not an Armstrong number\")\n",
        "\n",
        "\n",
        "number = int(input(\"Enter a 3 digit integer: \"))\n",
        "cubesum(number)"
      ]
    },
    {
      "cell_type": "markdown",
      "metadata": {
        "id": "paCWtUJ-a1E5"
      },
      "source": [
        "__7. Write a function prodDigits() that inputs a number and returns the product of digits of that\n",
        "number.__"
      ]
    },
    {
      "cell_type": "code",
      "execution_count": null,
      "metadata": {
        "id": "QMFbCgqOa1E6",
        "outputId": "02ce85b6-bec2-44c0-eb8b-4b7bd5fbf8d8"
      },
      "outputs": [
        {
          "name": "stdout",
          "output_type": "stream",
          "text": [
            "Enter a number: 67\n",
            "42\n"
          ]
        }
      ],
      "source": [
        "def prodDigits(x):  #defining a function with a parameter 'x'\n",
        "    product = 1  #initializing product variable\n",
        "    while(x > 0):\n",
        "        product = product * (x % 10)  #product between the digits\n",
        "        x = x // 10  #eliminating the used digit\n",
        "    return product\n",
        "\n",
        "number = int(input(\"Enter a number: \"))\n",
        "print(prodDigits(number))"
      ]
    },
    {
      "cell_type": "markdown",
      "metadata": {
        "id": "2D4kiyMVa1E6"
      },
      "source": [
        "__8. If all digits of a number n are multiplied by each other repeating with the product, the one\n",
        "digit number obtained at last is called the multiplicative digital root of n. The number of\n",
        "times digits need to be multiplied to reach one digit is called the multiplicative\n",
        "persistance of n.\n",
        "Example: 86 -> 48 -> 32 -> 6 (MDR 6, MPersistence 3)\n",
        " 341 -> 12->2 (MDR 2, MPersistence 2)\n",
        "Using the function prodDigits() of previous exercise write functions MDR() and\n",
        "MPersistence() that input a number and return its multiplicative digital root and\n",
        "multiplicative persistence respectively__"
      ]
    },
    {
      "cell_type": "code",
      "execution_count": null,
      "metadata": {
        "id": "XLnaa43za1E6",
        "outputId": "025ecc46-a6fc-48b0-c128-36da9c57e4f0"
      },
      "outputs": [
        {
          "name": "stdout",
          "output_type": "stream",
          "text": [
            "Enter a number: 78\n",
            "For 78 MDR is 0 and M Persistance is 3\n"
          ]
        }
      ],
      "source": [
        "def MDR(x):  #defining a function with a parameter 'x'\n",
        "    s = str(x)  #converting integer into a string\n",
        "    persistence_count = 0  #initializing persistence_count\n",
        "    while(len(s)>1):  #run the loop till len of string becomes 1\n",
        "        s = str(prodDigits(int(s)))  #use previous problem's solution\n",
        "        persistence_count = persistence_count + 1\n",
        "    return int(s), persistence_count\n",
        "\n",
        "number = int(input(\"Enter a number: \"))\n",
        "mdr,mper = MDR(number)\n",
        "print(\"For {0} MDR is {1} and M Persistance is {2}\".format(number, mdr, mper))"
      ]
    },
    {
      "cell_type": "markdown",
      "metadata": {
        "id": "kQtn-1nea1E6"
      },
      "source": [
        "__9. Write a function sumPdivisors() that finds the sum of proper divisors of a number. Proper\n",
        "divisors of a number are those numbers by which the number is divisible, except the\n",
        "number itself. For example proper divisors of 36 are 1, 2, 3, 4, 6, 9, 18__"
      ]
    },
    {
      "cell_type": "code",
      "execution_count": null,
      "metadata": {
        "id": "6esmvESfa1E6",
        "outputId": "93908a83-7bab-4811-eccc-01792caa26b8"
      },
      "outputs": [
        {
          "name": "stdout",
          "output_type": "stream",
          "text": [
            "Enter a number: 56\n"
          ]
        },
        {
          "data": {
            "text/plain": [
              "64"
            ]
          },
          "execution_count": 14,
          "metadata": {},
          "output_type": "execute_result"
        }
      ],
      "source": [
        "def sumPdivisors(x):\n",
        "    divisors = []   #list to store divisors\n",
        "    for i in range(1, x):  #for loop\n",
        "        if x % i == 0:   #input number is divisible by a number, then then later is a divisor\n",
        "            #print(\"{:d} is divisible by {:d}\".format(x, i))\n",
        "            divisors.append(i)   #appending all the divisors in the list created\n",
        "    return sum(divisors)    #sum of all possible divisors\n",
        "\n",
        "number = int(input(\"Enter a number: \"))\n",
        "sumPdivisors(number)"
      ]
    },
    {
      "cell_type": "markdown",
      "metadata": {
        "id": "twwq9xtaa1E6"
      },
      "source": [
        "__10. A number is called perfect if the sum of proper divisors of that number is equal to the\n",
        "number. For example 28 is perfect number, since 1+2+4+7+14=28. Write a program to\n",
        "print all the perfect numbers in a given range__"
      ]
    },
    {
      "cell_type": "code",
      "execution_count": null,
      "metadata": {
        "id": "nhD4Vc-Ga1E6",
        "outputId": "931cdd14-594a-4c66-fca5-c1fd238e78c8"
      },
      "outputs": [
        {
          "name": "stdout",
          "output_type": "stream",
          "text": [
            "0\n",
            "6\n",
            "28\n",
            "496\n"
          ]
        }
      ],
      "source": [
        "def isPerfect(x):\n",
        "    return x == sumPdivisors(x) #returns perfect numbers from the previous function\n",
        "\n",
        "def perfect_number(start, end): #giving range to the function\n",
        "    for i in range(start, end):  #for loop\n",
        "        if isPerfect(i):\n",
        "            print(i)\n",
        "\n",
        "perfect_number(0, 1000)"
      ]
    },
    {
      "cell_type": "markdown",
      "metadata": {
        "id": "CxCFvNj3a1E6"
      },
      "source": [
        "__11. Two different numbers are called amicable numbers if the sum of the proper divisors of\n",
        "each is equal to the other number. For example 220 and 284 are amicable numbers.\n",
        "Sum of proper divisors of 220 = 1+2+4+5+10+11+20+22+44+55+110 = 284\n",
        "Sum of proper divisors of 284 = 1+2+4+71+142 = 220\n",
        "Write a function to print pairs of amicable numbers in a range__"
      ]
    },
    {
      "cell_type": "code",
      "execution_count": null,
      "metadata": {
        "id": "kTVdHFp7a1E6",
        "outputId": "8aae17e4-7cfb-439f-99a0-0d5b59550fd6"
      },
      "outputs": [
        {
          "name": "stdout",
          "output_type": "stream",
          "text": [
            "220 284\n"
          ]
        }
      ],
      "source": [
        "def amicable_numbers(start, end):   #function with parameters giving range\n",
        "    for x in range(start, end+1):   #first number selected from the loop\n",
        "        for y in range(x, end+1):   #second number selected from the loop\n",
        "            if x != y:  #if x=y, then sum of proper divisors of both the numbers will be equal\n",
        "                if amicable_pair(x, y):  #calling the another function\n",
        "                    print(x, y)\n",
        "\n",
        "def amicable_pair(number1, number2):\n",
        "    return (sumPdivisors(number1) == number2) and (sumPdivisors(number2) == number1)  #sum of first number's proper divisors is equal to the second number and vice versa\n",
        "\n",
        "amicable_numbers(1, 1000)   #providing the range in the form of numbers"
      ]
    },
    {
      "cell_type": "markdown",
      "metadata": {
        "id": "6RqQb1nha1E7"
      },
      "source": [
        "__12. Write a program which can filter odd numbers in a list by using filter function__"
      ]
    },
    {
      "cell_type": "code",
      "execution_count": null,
      "metadata": {
        "id": "HjrZtxQva1E7",
        "outputId": "01253930-b448-4326-f16a-3b6b477dbbdd"
      },
      "outputs": [
        {
          "name": "stdout",
          "output_type": "stream",
          "text": [
            "Odd numbers in the list1 are:  [1, 3, 5, 7, 9]\n",
            "Odd numbers in the list2 are:  [11, 13, 15, 17, 19]\n"
          ]
        }
      ],
      "source": [
        "#Reference - https://www.geeksforgeeks.org/python-program-to-print-odd-numbers-in-a-list/\n",
        "\n",
        "#provide the lists\n",
        "list1 = [1,2,3,4,5,6,7,8,9]\n",
        "list2 = [10,11,12,13,14,15,16,17,18,19]\n",
        "\n",
        "odd_numbers_list1 = list(filter(lambda x : (x % 2 != 0), list1)) #using lambda expression in the filter function\n",
        "odd_numbers_list2 = list(filter(lambda x : (x % 2 != 0), list2))\n",
        "\n",
        "print(\"Odd numbers in the list1 are: \", odd_numbers_list1)\n",
        "print(\"Odd numbers in the list2 are: \", odd_numbers_list2)"
      ]
    },
    {
      "cell_type": "markdown",
      "metadata": {
        "id": "pCbdwONxa1E7"
      },
      "source": [
        "__13. Write a program which can map() to make a list whose elements are cube of elements in\n",
        "a given list__"
      ]
    },
    {
      "cell_type": "code",
      "execution_count": null,
      "metadata": {
        "id": "j8KH4Imta1E7",
        "outputId": "9cf97523-319a-44be-c07e-34b34887c63f"
      },
      "outputs": [
        {
          "name": "stdout",
          "output_type": "stream",
          "text": [
            "Cube of the elements in the given list are:  [1, 8, 27, 64, 125, 216, 343, 512, 729]\n"
          ]
        }
      ],
      "source": [
        "list1 = [1,2,3,4,5,6,7,8,9]\n",
        "\n",
        "cube_of_elements = list(map(lambda x: x ** 3, list1))  #using lambda expression in the map function\n",
        "\n",
        "print(\"Cube of the elements in the given list are: \", cube_of_elements)"
      ]
    },
    {
      "cell_type": "markdown",
      "metadata": {
        "id": "QwY9lp57a1E7"
      },
      "source": [
        "__14. Write a program which can map() and filter() to make a list whose elements are cube of\n",
        "even number in a given list__"
      ]
    },
    {
      "cell_type": "code",
      "execution_count": null,
      "metadata": {
        "id": "NTCVUZtua1E7",
        "outputId": "56336475-5472-4d77-c46e-bab13dfaf136"
      },
      "outputs": [
        {
          "name": "stdout",
          "output_type": "stream",
          "text": [
            "Cube of even numbers in the given list are:  [8, 64, 216, 512]\n"
          ]
        }
      ],
      "source": [
        "list1 = [1,2,3,4,5,6,7,8,9]\n",
        "\n",
        "#using map and filter function at the same time\n",
        "cube_of_even_numbers = list(map(lambda x: x ** 3,filter(lambda x: x % 2 == 0, list1)))\n",
        "\n",
        "print(\"Cube of even numbers in the given list are: \", cube_of_even_numbers)"
      ]
    },
    {
      "cell_type": "code",
      "execution_count": null,
      "metadata": {
        "id": "PbQ1lmDSa1E7"
      },
      "outputs": [],
      "source": []
    }
  ],
  "metadata": {
    "kernelspec": {
      "display_name": "Python 3",
      "language": "python",
      "name": "python3"
    },
    "language_info": {
      "codemirror_mode": {
        "name": "ipython",
        "version": 3
      },
      "file_extension": ".py",
      "mimetype": "text/x-python",
      "name": "python",
      "nbconvert_exporter": "python",
      "pygments_lexer": "ipython3",
      "version": "3.6.5"
    },
    "colab": {
      "provenance": []
    }
  },
  "nbformat": 4,
  "nbformat_minor": 0
}